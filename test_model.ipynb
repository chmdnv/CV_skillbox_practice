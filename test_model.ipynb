{
 "cells": [
  {
   "cell_type": "code",
   "execution_count": 8,
   "id": "bac6cb4b-77e6-4e05-89c1-cd3a8b07a4eb",
   "metadata": {},
   "outputs": [],
   "source": [
    "import os\n",
    "import pickle\n",
    "import numpy as np\n",
    "import logging"
   ]
  },
  {
   "cell_type": "code",
   "execution_count": 84,
   "id": "90df233e-7ad8-4933-8095-3421597dc471",
   "metadata": {},
   "outputs": [],
   "source": [
    "logging.basicConfig(format='%(asctime)s %(message)s', datefmt='%m/%d/%Y %H:%M:%S')\n",
    "logger = logging.getLogger(__name__)\n",
    "logger.setLevel(logging.INFO)"
   ]
  },
  {
   "cell_type": "code",
   "execution_count": 85,
   "id": "af3ab63a-d1f7-4f47-9971-1c4e719e9276",
   "metadata": {},
   "outputs": [
    {
     "data": {
      "text/plain": [
       "<Logger __main__ (INFO)>"
      ]
     },
     "execution_count": 85,
     "metadata": {},
     "output_type": "execute_result"
    }
   ],
   "source": [
    "logger"
   ]
  },
  {
   "cell_type": "code",
   "execution_count": 92,
   "id": "1a81c58b-524f-44b7-bb02-09f6bb89c8aa",
   "metadata": {},
   "outputs": [],
   "source": [
    "x = np.array([[  0,   0,   0,   0,   0,   0,   0,   0,   0,   0,   0,   0,   0,\n",
    "          0,   0,   0,   0,   0,   0,   0,   0,   0,   0,   0,   0,   0,\n",
    "          0,   0],\n",
    "       [  0,   0,   0,   0,   0,   0,   0,   0,   0,   0,   0,   0,   0,\n",
    "          0,   0,   0,   0,   0,   0,   0,   0,   0,   0,   0,   0,   0,\n",
    "          0,   0],\n",
    "       [  0,   0,   0,   0,   0,   0,   0,   0,   0,   0,   0,   0,   0,\n",
    "          0,   0,   0,   0,   0,   0,   0,   0,   0,   0,   0,   0,   0,\n",
    "          0,   0],\n",
    "       [  0,   0,   0,   0,   0,   0,   0,   0,   0,   0,   0,   0,   0,\n",
    "          0,   0,   0,   0,   0,   0,   0,   0,   0,   0,   0,   0, 139,\n",
    "         33,   0],\n",
    "       [  0,   0,   0,   0,   0,   0,   0,   0,   0,   0,   0,   0,   0,\n",
    "          0,   0,   0,   0,   0,   0,   0,   0,   0,   0,   0,   4, 244,\n",
    "        112,   0],\n",
    "       [  0,   0,   0,   0,   0,   0,   0,   0,   0,   0,   0,   0,   0,\n",
    "          0,   0,   0,   0,   0,   0,   0,   0,   0,   0,   0,   4, 246,\n",
    "         49,   0],\n",
    "       [  0,   0,   0,   0,   0,   0,   0,   0,   0,   0,   0,   0,   0,\n",
    "          0,   0,   0,   0,   0,   0,   0,   0,   0,   0,   0,   9, 246,\n",
    "         49,   0],\n",
    "       [  0,   0,   0,   0,   0,   0,   0,   0,   0,   0,   0,   0,   0,\n",
    "          0,   0,   0,   0,   0,   0,   0,   0,   0,   0,   0,  38, 233,\n",
    "         21,   0],\n",
    "       [  0,   0,   0,   0,   0,   0,   0,   0,   0,   0,   0,   0,   0,\n",
    "          0,   0,   0,   0,   0,   0,   0,   0,   0,   0,   4, 202, 217,\n",
    "          4,   0],\n",
    "       [  0,   0,   0,   0,   0,   0,   0,   0,   0,   0,   0,   0,   0,\n",
    "          0,   0,   0,   0,   0,   0,   0,   0,   0,   0,   4, 217, 203,\n",
    "          4,   0],\n",
    "       [  0,   0,   0,   0,   0,   0,   0,   0,   0,   0,   0,   8, 187,\n",
    "         67,   0,   0,   0,   0,   0,   0,   0,   0,   0,  59, 245,  46,\n",
    "          0,   0],\n",
    "       [  0,   0,   0,   0,   0,   0,   0,   0,   0,   0,   0,  25, 238,\n",
    "        222, 115,   1,   0,   0,   0,   0,   0,   0,   2, 214, 245,   4,\n",
    "          0,   0],\n",
    "       [  0,   0,   0,   0,   0,   0,   0,   0,   0,   0,   0, 159, 245,\n",
    "        142, 220, 175,  84,   5,   0,   0,   0,   2, 127, 251,  95,   0,\n",
    "          0,   0],\n",
    "       [  0,   0,   0,   0,   0,   0,   0,   0,   0,   0,  33, 244,  95,\n",
    "          0,  22, 172, 231, 100,   5,   0,   0, 110, 235, 218,  20,   0,\n",
    "          0,   0],\n",
    "       [  0,   0,   0,   0,   0,   0,   0,   0,   0,  20, 144,  91,   1,\n",
    "          0,   0,   0,   7, 190, 202,  22,   3, 220, 221,   9,   0,   0,\n",
    "          0,   0],\n",
    "       [  0,   0,   0,   0,   0,   0,   0,   0,   4, 205, 172,   1,   0,\n",
    "          0,   0,   0,   0,   6, 123, 219, 174, 250,  83,   0,   0,   0,\n",
    "          0,   0],\n",
    "       [  0,   0,   0,   0,   0,   0,   0,  51, 236, 121,   3,   0,   0,\n",
    "          0,   0,   0,   0,   0,   0, 191, 254, 127,   1,   0,   0,   0,\n",
    "          0,   0],\n",
    "       [  0,   0,   0,   0,   0,   0,   3, 218, 214,   2,   0,   0,   0,\n",
    "          0,   0,   0,   0,   0,  24, 251, 175,   7,   0,   0,   0,   0,\n",
    "          0,   0],\n",
    "       [  0,   0,   0,   0,   0,  15, 201, 206,  12,   0,   0,   0,   0,\n",
    "          0,   0,   0,   0, 186, 246, 159,   4,   0,   0,   0,   0,   0,\n",
    "          0,   0],\n",
    "       [  0,   0,   0,   0,   0,  37, 215,  24,   0,   0,   0,   0,   0,\n",
    "          0,   0,   0,  10, 246, 245,  22,   0,   0,   0,   0,   0,   0,\n",
    "          0,   0],\n",
    "       [  0,   0,   0,   0,  65,  97,  11,   0,   0,   0,   0,   0,   0,\n",
    "          0,   0,   2, 128, 246,  47,   0,   0,   0,   0,   0,   0,   0,\n",
    "          0,   0],\n",
    "       [  0,   0,   0,   7, 154,   7,   0,   0,   0,   0,   0,   0,   0,\n",
    "          0,   0, 121, 235, 234,  21,   0,   0,   0,   0,   0,   0,   0,\n",
    "          0,   0],\n",
    "       [  0,   0,   8, 142, 123,   0,   0,   0,   0,   0,   0,   0,   0,\n",
    "          0,   0, 215, 255, 187,  18,   0,   0,   0,   0,   0,   0,   0,\n",
    "          0,   0],\n",
    "       [  0,  22, 218,  91,   1,   0,   0,   0,   0,   0,   0,   0,   0,\n",
    "          0,   0, 185, 172,  20,   0,   0,   0,   0,   0,   0,   0,   0,\n",
    "          0,   0],\n",
    "       [  0, 100, 228,   3,   0,   0,   0,   0,   0,   0,   0,   0,   0,\n",
    "          0,   0,   3,   2,   0,   0,   0,   0,   0,   0,   0,   0,   0,\n",
    "          0,   0],\n",
    "       [  0,   0,   3,   0,   0,   0,   0,   0,   0,   0,   0,   0,   0,\n",
    "          0,   0,   0,   0,   0,   0,   0,   0,   0,   0,   0,   0,   0,\n",
    "          0,   0],\n",
    "       [  0,   0,   0,   0,   0,   0,   0,   0,   0,   0,   0,   0,   0,\n",
    "          0,   0,   0,   0,   0,   0,   0,   0,   0,   0,   0,   0,   0,\n",
    "          0,   0],\n",
    "       [  0,   0,   0,   0,   0,   0,   0,   0,   0,   0,   0,   0,   0,\n",
    "          0,   0,   0,   0,   0,   0,   0,   0,   0,   0,   0,   0,   0,\n",
    "          0,   0]]\n",
    "            )"
   ]
  },
  {
   "cell_type": "code",
   "execution_count": 95,
   "id": "c65a3a87-dc6e-4cf9-aaf1-ef55366d230d",
   "metadata": {},
   "outputs": [],
   "source": [
    "class Model:\n",
    "    def __init__(self):\n",
    "        model_path = os.path.join('myapp', 'model.pkl')\n",
    "        \n",
    "        if not os.path.exists(model_path):\n",
    "            raise FileNotFoundError(f\"{model_path} does not exist!\")\n",
    "        \n",
    "        with open(model_path,'rb') as file:\n",
    "            self.meta = pickle.load(file)\n",
    "            self.model = self.meta['model']\n",
    "            self.char_map = self.meta['char map dict']\n",
    "        \n",
    "        logging.info(f\"Loaded {repr(self)} accuracy {self.meta['accuracy'] :.2f}\")\n",
    "\n",
    "    def __repr__(self):\n",
    "        return repr(self.model)\n",
    "    \n",
    "    def predict(self, x):\n",
    "        '''\n",
    "        Parameters\n",
    "        ----------\n",
    "        x : np.ndarray\n",
    "            Входное изображение -- массив размера (28, 28)\n",
    "        Returns\n",
    "        -------\n",
    "        pred_char : str\n",
    "            Символ-предсказание \n",
    "        '''\n",
    "        x = np.array((np.array(x.reshape((28*28,))),))\n",
    "        logger.info(f\"Starting prediction on X with shape {x.shape}\")\n",
    "\n",
    "        prediction = self.model.predict(x)[0]\n",
    "        logger.info(f\"Predicted class: {prediction}\")\n",
    "\n",
    "        if prediction not in self.char_map:\n",
    "            logger.warninig(f\"{repr(prediction)} not found in char map dict!\")\n",
    "\n",
    "        pred_char = self.char_map.get(prediction, None)\n",
    "        logger.info(f\"Predicted character: {pred_char}\")\n",
    "            \n",
    "        return pred_char\n"
   ]
  },
  {
   "cell_type": "code",
   "execution_count": 96,
   "id": "f3d2cf99-291b-4935-a457-0b23145bbb4b",
   "metadata": {},
   "outputs": [],
   "source": [
    "m = Model()"
   ]
  },
  {
   "cell_type": "code",
   "execution_count": 97,
   "id": "59d9d8d2-5a2c-41f5-97be-1ab2830298e1",
   "metadata": {},
   "outputs": [
    {
     "name": "stderr",
     "output_type": "stream",
     "text": [
      "03/25/2024 02:03:33 PM Starting prediction on X with shape (1, 784)\n",
      "03/25/2024 02:03:33 PM Predicted class: 17\n",
      "03/25/2024 02:03:33 PM Predicted character: H\n"
     ]
    },
    {
     "data": {
      "text/plain": [
       "'H'"
      ]
     },
     "execution_count": 97,
     "metadata": {},
     "output_type": "execute_result"
    }
   ],
   "source": [
    "m.predict(x)"
   ]
  },
  {
   "cell_type": "code",
   "execution_count": null,
   "id": "56d3677c-c132-4250-84a9-b8dc6dc1a716",
   "metadata": {},
   "outputs": [],
   "source": []
  }
 ],
 "metadata": {
  "kernelspec": {
   "display_name": "Python 3 (ipykernel)",
   "language": "python",
   "name": "python3"
  },
  "language_info": {
   "codemirror_mode": {
    "name": "ipython",
    "version": 3
   },
   "file_extension": ".py",
   "mimetype": "text/x-python",
   "name": "python",
   "nbconvert_exporter": "python",
   "pygments_lexer": "ipython3",
   "version": "3.9.18"
  }
 },
 "nbformat": 4,
 "nbformat_minor": 5
}
